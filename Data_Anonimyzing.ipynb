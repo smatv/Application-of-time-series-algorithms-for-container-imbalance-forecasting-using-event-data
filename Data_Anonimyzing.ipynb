{
 "cells": [
  {
   "cell_type": "code",
   "execution_count": 12,
   "metadata": {},
   "outputs": [],
   "source": [
    "!pip instal openpyxl\n"
   ]
  },
  {
   "cell_type": "code",
   "execution_count": 13,
   "metadata": {},
   "outputs": [],
   "source": [
    "import pandas as pd\n",
    "\n",
    "# Import Data and Drop the last 3 rows (Total and source description)\n",
    "\n",
    "df_full = pd.read_csv('IDV_ELV_22-23.csv').iloc[:-3]\n",
    "df_empty = pd.read_csv('MDV_MLV_22-23.csv').iloc[:-3]\n",
    "\n",
    "# Append to one df \n",
    "df = pd.concat([df_full, df_empty], ignore_index=True)"
   ]
  },
  {
   "cell_type": "code",
   "execution_count": 14,
   "metadata": {},
   "outputs": [],
   "source": [
    "# Now the 'Date' column is converted to type datetime\n",
    "df['Date'] = pd.to_datetime(df['Date'])\n",
    "\n",
    "# Remove commas from 'Unit Count' column and convert to integer\n",
    "df['Unit Count'] = df['Unit Count'].str.replace(',', '').astype(int)"
   ]
  },
  {
   "cell_type": "code",
   "execution_count": 15,
   "metadata": {},
   "outputs": [
    {
     "data": {
      "text/plain": [
       "Start Event Type                     object\n",
       "Start Event Description              object\n",
       "Equipment Type                       object\n",
       "Unit Count                            int32\n",
       "Date                         datetime64[ns]\n",
       "Start Event Location Full            object\n",
       "dtype: object"
      ]
     },
     "execution_count": 15,
     "metadata": {},
     "output_type": "execute_result"
    }
   ],
   "source": [
    "df.dtypes"
   ]
  },
  {
   "cell_type": "code",
   "execution_count": 16,
   "metadata": {},
   "outputs": [
    {
     "data": {
      "text/plain": [
       "array(['A', 'B', 'C', 'D', 'E', 'F', 'G'], dtype=object)"
      ]
     },
     "execution_count": 16,
     "metadata": {},
     "output_type": "execute_result"
    }
   ],
   "source": [
    "# Extract unique locations\n",
    "unique_locations = df['Start Event Location Full'].unique()\n",
    "\n",
    "# Create a mapping dictionary\n",
    "location_mapping = {location: f\"{chr(65 + i)}\" for i, location in enumerate(unique_locations)}\n",
    "\n",
    "# Replace locations with labels\n",
    "df['Start Event Location Full'] = df['Start Event Location Full'].replace(location_mapping)\n",
    "\n",
    "# Now the 'Start Event Location Full' column is anonymized with labels like \"Location A\", \"Location B\", etc.\n",
    "\n",
    "df['Start Event Location Full'].unique()"
   ]
  },
  {
   "cell_type": "code",
   "execution_count": 17,
   "metadata": {},
   "outputs": [],
   "source": [
    "import numpy as np\n",
    "\n",
    "# Generate a single random integer between 1 and 20\n",
    "random_multiplier = np.random.randint(1, 21)\n",
    "\n",
    "# Multiply 'Unit Count' column by the random integer\n",
    "df['Unit Count'] = df['Unit Count'] * random_multiplier\n",
    "\n",
    "# Now the 'Unit Count' column is anonymized by multiplying the entire column by a random integer between 1 and 20"
   ]
  },
  {
   "cell_type": "code",
   "execution_count": 18,
   "metadata": {},
   "outputs": [
    {
     "data": {
      "text/html": [
       "<div>\n",
       "<style scoped>\n",
       "    .dataframe tbody tr th:only-of-type {\n",
       "        vertical-align: middle;\n",
       "    }\n",
       "\n",
       "    .dataframe tbody tr th {\n",
       "        vertical-align: top;\n",
       "    }\n",
       "\n",
       "    .dataframe thead th {\n",
       "        text-align: right;\n",
       "    }\n",
       "</style>\n",
       "<table border=\"1\" class=\"dataframe\">\n",
       "  <thead>\n",
       "    <tr style=\"text-align: right;\">\n",
       "      <th></th>\n",
       "      <th>Start Event Type</th>\n",
       "      <th>Start Event Description</th>\n",
       "      <th>Equipment Type</th>\n",
       "      <th>Unit Count</th>\n",
       "      <th>Date</th>\n",
       "      <th>Start Event Location Full</th>\n",
       "    </tr>\n",
       "  </thead>\n",
       "  <tbody>\n",
       "    <tr>\n",
       "      <th>0</th>\n",
       "      <td>ELV</td>\n",
       "      <td>Export Loaded on Vessel</td>\n",
       "      <td>20DV</td>\n",
       "      <td>1488</td>\n",
       "      <td>2022-01-01</td>\n",
       "      <td>A</td>\n",
       "    </tr>\n",
       "    <tr>\n",
       "      <th>1</th>\n",
       "      <td>ELV</td>\n",
       "      <td>Export Loaded on Vessel</td>\n",
       "      <td>20DV</td>\n",
       "      <td>4528</td>\n",
       "      <td>2022-01-01</td>\n",
       "      <td>B</td>\n",
       "    </tr>\n",
       "    <tr>\n",
       "      <th>2</th>\n",
       "      <td>ELV</td>\n",
       "      <td>Export Loaded on Vessel</td>\n",
       "      <td>20DV</td>\n",
       "      <td>896</td>\n",
       "      <td>2022-01-01</td>\n",
       "      <td>C</td>\n",
       "    </tr>\n",
       "    <tr>\n",
       "      <th>3</th>\n",
       "      <td>ELV</td>\n",
       "      <td>Export Loaded on Vessel</td>\n",
       "      <td>40DV</td>\n",
       "      <td>96</td>\n",
       "      <td>2022-01-01</td>\n",
       "      <td>A</td>\n",
       "    </tr>\n",
       "    <tr>\n",
       "      <th>4</th>\n",
       "      <td>ELV</td>\n",
       "      <td>Export Loaded on Vessel</td>\n",
       "      <td>40DV</td>\n",
       "      <td>320</td>\n",
       "      <td>2022-01-01</td>\n",
       "      <td>B</td>\n",
       "    </tr>\n",
       "    <tr>\n",
       "      <th>...</th>\n",
       "      <td>...</td>\n",
       "      <td>...</td>\n",
       "      <td>...</td>\n",
       "      <td>...</td>\n",
       "      <td>...</td>\n",
       "      <td>...</td>\n",
       "    </tr>\n",
       "    <tr>\n",
       "      <th>55546</th>\n",
       "      <td>MLV</td>\n",
       "      <td>Empty Loaded on vessel</td>\n",
       "      <td>40HC</td>\n",
       "      <td>1136</td>\n",
       "      <td>2023-12-31</td>\n",
       "      <td>A</td>\n",
       "    </tr>\n",
       "    <tr>\n",
       "      <th>55547</th>\n",
       "      <td>MLV</td>\n",
       "      <td>Empty Loaded on vessel</td>\n",
       "      <td>40HC</td>\n",
       "      <td>8656</td>\n",
       "      <td>2023-12-31</td>\n",
       "      <td>B</td>\n",
       "    </tr>\n",
       "    <tr>\n",
       "      <th>55548</th>\n",
       "      <td>MLV</td>\n",
       "      <td>Empty Loaded on vessel</td>\n",
       "      <td>40HC</td>\n",
       "      <td>944</td>\n",
       "      <td>2023-12-31</td>\n",
       "      <td>G</td>\n",
       "    </tr>\n",
       "    <tr>\n",
       "      <th>55549</th>\n",
       "      <td>MLV</td>\n",
       "      <td>Empty Loaded on vessel</td>\n",
       "      <td>40HR</td>\n",
       "      <td>432</td>\n",
       "      <td>2023-12-31</td>\n",
       "      <td>B</td>\n",
       "    </tr>\n",
       "    <tr>\n",
       "      <th>55550</th>\n",
       "      <td>MLV</td>\n",
       "      <td>Empty Loaded on vessel</td>\n",
       "      <td>40HR</td>\n",
       "      <td>160</td>\n",
       "      <td>2023-12-31</td>\n",
       "      <td>G</td>\n",
       "    </tr>\n",
       "  </tbody>\n",
       "</table>\n",
       "<p>55551 rows × 6 columns</p>\n",
       "</div>"
      ],
      "text/plain": [
       "      Start Event Type  Start Event Description Equipment Type  Unit Count  \\\n",
       "0                  ELV  Export Loaded on Vessel           20DV        1488   \n",
       "1                  ELV  Export Loaded on Vessel           20DV        4528   \n",
       "2                  ELV  Export Loaded on Vessel           20DV         896   \n",
       "3                  ELV  Export Loaded on Vessel           40DV          96   \n",
       "4                  ELV  Export Loaded on Vessel           40DV         320   \n",
       "...                ...                      ...            ...         ...   \n",
       "55546              MLV   Empty Loaded on vessel           40HC        1136   \n",
       "55547              MLV   Empty Loaded on vessel           40HC        8656   \n",
       "55548              MLV   Empty Loaded on vessel           40HC         944   \n",
       "55549              MLV   Empty Loaded on vessel           40HR         432   \n",
       "55550              MLV   Empty Loaded on vessel           40HR         160   \n",
       "\n",
       "            Date Start Event Location Full  \n",
       "0     2022-01-01                         A  \n",
       "1     2022-01-01                         B  \n",
       "2     2022-01-01                         C  \n",
       "3     2022-01-01                         A  \n",
       "4     2022-01-01                         B  \n",
       "...          ...                       ...  \n",
       "55546 2023-12-31                         A  \n",
       "55547 2023-12-31                         B  \n",
       "55548 2023-12-31                         G  \n",
       "55549 2023-12-31                         B  \n",
       "55550 2023-12-31                         G  \n",
       "\n",
       "[55551 rows x 6 columns]"
      ]
     },
     "execution_count": 18,
     "metadata": {},
     "output_type": "execute_result"
    }
   ],
   "source": [
    "df"
   ]
  },
  {
   "cell_type": "code",
   "execution_count": 19,
   "metadata": {},
   "outputs": [],
   "source": [
    "# Save the DataFrame to a CSV file named \"Anonym_ELV_IDV_22_23.csv\" in the same location\n",
    "df.to_csv(\"Anonym_Daily_Events_22_23.csv\", index=False)"
   ]
  }
 ],
 "metadata": {
  "kernelspec": {
   "display_name": "venv",
   "language": "python",
   "name": "python3"
  },
  "language_info": {
   "codemirror_mode": {
    "name": "ipython",
    "version": 3
   },
   "file_extension": ".py",
   "mimetype": "text/x-python",
   "name": "python",
   "nbconvert_exporter": "python",
   "pygments_lexer": "ipython3",
   "version": "3.11.9"
  }
 },
 "nbformat": 4,
 "nbformat_minor": 2
}
